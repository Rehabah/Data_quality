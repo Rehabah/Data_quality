{
 "cells": [
  {
   "cell_type": "markdown",
   "metadata": {},
   "source": [
    "# Data quality critiria last edit on 28 OCT"
   ]
  },
  {
   "cell_type": "code",
   "execution_count": 30,
   "metadata": {},
   "outputs": [],
   "source": [
    "# pip install missingno"
   ]
  },
  {
   "cell_type": "code",
   "execution_count": 39,
   "metadata": {},
   "outputs": [],
   "source": [
    "#  pip install sidetable"
   ]
  },
  {
   "cell_type": "code",
   "execution_count": 1,
   "metadata": {},
   "outputs": [],
   "source": [
    "import cx_Oracle\n",
    "import pandas as pd\n",
    "import numpy as np\n",
    "import matplotlib as plt\n",
    "import arabic_reshaper\n",
    "from bidi.algorithm import get_display\n",
    "import seaborn as sns\n",
    "import matplotlib.pyplot as plt\n",
    "import missingno as msno\n",
    "import sidetable"
   ]
  },
  {
   "cell_type": "code",
   "execution_count": 1,
   "metadata": {},
   "outputs": [],
   "source": [
    "ip=\n",
    "port = \n",
    "SID = \n",
    "dsn_tns = cx_Oracle.makedsn(ip, port, SID)\n",
    "# #Establishing connection with Oracle DB\n",
    "connection = cx_Oracle.connect(user_name,password, dsn_tns)\n",
    "sql='''SELECT * from  table_name'''\n",
    "DF=pd.read_sql(sql,con=connection)\n",
    "DF"
   ]
  },
  {
   "cell_type": "code",
   "execution_count": 4,
   "metadata": {},
   "outputs": [],
   "source": [
    "# DF.to_csv('data.csv',index=True,encoding='utf-8')"
   ]
  },
  {
   "cell_type": "code",
   "execution_count": 3,
   "metadata": {},
   "outputs": [],
   "source": [
    "DFO=DF"
   ]
  },
  {
   "cell_type": "code",
   "execution_count": 4,
   "metadata": {},
   "outputs": [],
   "source": [
    "pd.set_option('display.float_format', lambda x: '%.3f' % x)\n",
    "pd.set_option('max_colwidth', 800)"
   ]
  },
  {
   "cell_type": "markdown",
   "metadata": {},
   "source": [
    "Dataset Info"
   ]
  },
  {
   "cell_type": "code",
   "execution_count": 2,
   "metadata": {},
   "outputs": [],
   "source": [
    "len(DFO)"
   ]
  },
  {
   "cell_type": "code",
   "execution_count": 3,
   "metadata": {},
   "outputs": [],
   "source": [
    "len(DFO.columns)"
   ]
  },
  {
   "cell_type": "code",
   "execution_count": 4,
   "metadata": {},
   "outputs": [],
   "source": [
    "DFO.columns"
   ]
  },
  {
   "cell_type": "code",
   "execution_count": 5,
   "metadata": {},
   "outputs": [],
   "source": [
    "DFO.info()"
   ]
  },
  {
   "cell_type": "code",
   "execution_count": 9,
   "metadata": {},
   "outputs": [],
   "source": [
    "# for column in DFO:\n",
    "#     DFO[column].replace('None', np.nan, inplace=True)\n",
    "# DFO.replace(to_replace=[None], value=np.nan, inplace=True)"
   ]
  },
  {
   "cell_type": "markdown",
   "metadata": {},
   "source": [
    "Column Format "
   ]
  },
  {
   "cell_type": "code",
   "execution_count": 11,
   "metadata": {},
   "outputs": [],
   "source": [
    "#some columns need to change the data type of them"
   ]
  },
  {
   "cell_type": "code",
   "execution_count": null,
   "metadata": {},
   "outputs": [],
   "source": []
  },
  {
   "cell_type": "markdown",
   "metadata": {},
   "source": [
    "Duplicated Values"
   ]
  },
  {
   "cell_type": "code",
   "execution_count": 6,
   "metadata": {},
   "outputs": [],
   "source": [
    "len(DFO)"
   ]
  },
  {
   "cell_type": "code",
   "execution_count": 7,
   "metadata": {},
   "outputs": [],
   "source": [
    "len(DFO.drop_duplicates())"
   ]
  },
  {
   "cell_type": "markdown",
   "metadata": {},
   "source": [
    "Missing Values"
   ]
  },
  {
   "cell_type": "code",
   "execution_count": 17,
   "metadata": {},
   "outputs": [],
   "source": [
    "# DFO.isna().sum()"
   ]
  },
  {
   "cell_type": "code",
   "execution_count": 15,
   "metadata": {},
   "outputs": [],
   "source": [
    "def missing_values_table(df):\n",
    "        # Total missing values\n",
    "        mis_val = df.isnull().sum()\n",
    "        \n",
    "        # Percentage of missing values\n",
    "        mis_val_percent = 100 * df.isnull().sum() / len(df)\n",
    "        \n",
    "        # Make a table with the results\n",
    "        mis_val_table = pd.concat([mis_val, mis_val_percent], axis=1)\n",
    "        \n",
    "        # Rename the columns\n",
    "        mis_val_table_ren_columns = mis_val_table.rename(\n",
    "        columns = {0 : 'Missing Values', 1 : '% of Total Values'})\n",
    "        \n",
    "        # Sort the table by percentage of missing descending\n",
    "        mis_val_table_ren_columns = mis_val_table_ren_columns[\n",
    "            mis_val_table_ren_columns.iloc[:,1] != 0].sort_values(\n",
    "        '% of Total Values', ascending=False).round(1)\n",
    "        \n",
    "        # Print some summary information\n",
    "        print (\"Your selected dataframe has \" + str(df.shape[1]) + \" columns.\\n\"      \n",
    "            \"There are \" + str(mis_val_table_ren_columns.shape[0]) +\n",
    "              \" columns that have missing values.\")\n",
    "        \n",
    "        # Return the dataframe with missing information\n",
    "        return mis_val_table_ren_columns"
   ]
  },
  {
   "cell_type": "code",
   "execution_count": 8,
   "metadata": {},
   "outputs": [],
   "source": [
    "missing_data_per_count= missing_values_table(DFO)\n",
    "missing_data_per_count"
   ]
  },
  {
   "cell_type": "code",
   "execution_count": 9,
   "metadata": {},
   "outputs": [],
   "source": [
    "DFO.stb.missing()"
   ]
  },
  {
   "cell_type": "code",
   "execution_count": 10,
   "metadata": {},
   "outputs": [],
   "source": [
    "msno.bar(DFO)"
   ]
  },
  {
   "cell_type": "code",
   "execution_count": 17,
   "metadata": {},
   "outputs": [],
   "source": [
    "# msno.matrix(DFO)"
   ]
  },
  {
   "cell_type": "code",
   "execution_count": 11,
   "metadata": {},
   "outputs": [],
   "source": [
    "msno.dendrogram(DFO)"
   ]
  },
  {
   "cell_type": "code",
   "execution_count": 12,
   "metadata": {},
   "outputs": [],
   "source": [
    "DFO.head()"
   ]
  },
  {
   "cell_type": "code",
   "execution_count": null,
   "metadata": {},
   "outputs": [],
   "source": []
  },
  {
   "cell_type": "markdown",
   "metadata": {},
   "source": [
    "# Exploring column values"
   ]
  },
  {
   "cell_type": "code",
   "execution_count": 13,
   "metadata": {},
   "outputs": [],
   "source": [
    "LI=DFO.select_dtypes(include=[np.datetime64])\n",
    "LI.columns\n",
    "df1=DFO.drop(columns=LI.columns,axis=1)\n",
    "df1"
   ]
  },
  {
   "cell_type": "code",
   "execution_count": 23,
   "metadata": {},
   "outputs": [],
   "source": [
    "# L=DFO.select_dtypes(include=[np.number])\n",
    "# sns.heatmap(L, annot=True)"
   ]
  },
  {
   "cell_type": "code",
   "execution_count": 14,
   "metadata": {},
   "outputs": [],
   "source": [
    "#correlation\n",
    "corr_=DFO.corr().unstack().sort_values(ascending=False).drop_duplicates().reset_index(name='cor')\n",
    "corr_.loc[corr_['cor']>=0.5]"
   ]
  },
  {
   "cell_type": "code",
   "execution_count": null,
   "metadata": {},
   "outputs": [],
   "source": []
  },
  {
   "cell_type": "markdown",
   "metadata": {},
   "source": [
    "Unique values in a column"
   ]
  },
  {
   "cell_type": "code",
   "execution_count": 82,
   "metadata": {},
   "outputs": [],
   "source": [
    "def colum_values_len(df):\n",
    "    values=[]\n",
    "    un_counts=[]\n",
    "    names=[]\n",
    "    leng=[]\n",
    "    for i in df.columns:\n",
    "#         print ((DFO[i].apply(type)))\n",
    "#          if (np.issubdtype(df[i].dtype, np.datetime64)):\n",
    "# # #           print('yes')\n",
    "#               continue\n",
    "#          else:\n",
    "          \n",
    "            names.append(i)\n",
    "        #     print('Column:',i)\n",
    "            leng.append(len(df[i]))\n",
    "            un_counts.append(len(df[i].dropna().unique()))\n",
    "            #print('Number of unique values:',len(DFO[i].unique()),'\\n')\n",
    "            #print('unique values are:',(DFO[i].unique().tolist()),'\\n')\n",
    "            #values.append((len(df[i].dropna().unique())/len(df[i]))*100)\n",
    "            #values.append(df[i].dropna().unique().tolist())\n",
    "    columns_len = pd.DataFrame(\n",
    "        {'column_name': names,\n",
    "         'column_length':leng,\n",
    "         'Num_unique_values': un_counts\n",
    "         #'Perc': values,\n",
    "        })\n",
    "    display(columns_len)"
   ]
  },
  {
   "cell_type": "code",
   "execution_count": 83,
   "metadata": {},
   "outputs": [],
   "source": [
    "# def colum_values_len(df):\n",
    "#     values=[]\n",
    "#     un_counts=[]\n",
    "#     names=[]\n",
    "#     leng=[]\n",
    "#     for i in df.columns:\n",
    "# #         print ((DFO[i].apply(type)))\n",
    "# #         if (np.issubdtype(df[i].dtype, np.datetime64)):\n",
    "# # #           print('yes')\n",
    "# #              continue\n",
    "# #         else:\n",
    "          \n",
    "#             names.append(i)\n",
    "#         #     print('Column:',i)\n",
    "#             leng.append(len(df[i]))\n",
    "#             un_counts.append(len(df[i].dropna().unique()))\n",
    "#             #print('Number of unique values:',len(DFO[i].unique()),'\\n')\n",
    "#             #print('unique values are:',(DFO[i].unique().tolist()),'\\n')\n",
    "#             values.append(df[i].dropna().unique().tolist())\n",
    "#     columns_len = pd.DataFrame(\n",
    "#         {'column_name': names,\n",
    "#          'column_length':leng,\n",
    "#          'Num_unique_values': un_counts,\n",
    "#          'unique_values': values,\n",
    "#         })\n",
    "#     display(columns_len)"
   ]
  },
  {
   "cell_type": "code",
   "execution_count": 15,
   "metadata": {},
   "outputs": [],
   "source": [
    "col_len_and_un_len= colum_values_len(df1)\n",
    "col_len_and_un_len"
   ]
  },
  {
   "cell_type": "markdown",
   "metadata": {},
   "source": [
    "Values counts  for each column"
   ]
  },
  {
   "cell_type": "code",
   "execution_count": 95,
   "metadata": {},
   "outputs": [],
   "source": [
    "def col_values_counts(df):\n",
    "        #column values and percentage\n",
    "    for column in df:\n",
    "\n",
    "        counts = df[column].value_counts()\n",
    "        #sns.countplot(x=column,data=df)\n",
    "    #     percent = DFO[column].value_counts(normalize=True)\n",
    "        percent100 = df[column].value_counts(normalize=True).mul(100).round(1).astype(str) + '%'\n",
    "        #display(pd.DataFrame({'column':column,'counts': counts, 'per': percent, 'per100': percent100}))\n",
    "        data=pd.DataFrame({'column':column,'counts': counts,  'per': percent100})\n",
    "        display(data)\n",
    "        "
   ]
  },
  {
   "cell_type": "code",
   "execution_count": 16,
   "metadata": {},
   "outputs": [],
   "source": [
    "col_values_counts1= col_values_counts(DFO)\n",
    "col_values_counts1"
   ]
  },
  {
   "cell_type": "code",
   "execution_count": 131,
   "metadata": {},
   "outputs": [],
   "source": [
    "# def plot_column(df):\n",
    "#     for col in df.columns:\n",
    "#         if (df[col].dtype =='float64') or (df[col].dtype =='int64') or (df[col].dtype =='O'):\n",
    "#             fig = plt.figure()\n",
    "#             ax=sns.countplot(x=col, data=df)\n",
    "#             plt.show()\n",
    "#             plt.close(fig)\n",
    "#         else:\n",
    "#             print (col+ ' not plotted')\n",
    "            "
   ]
  },
  {
   "cell_type": "code",
   "execution_count": null,
   "metadata": {},
   "outputs": [],
   "source": []
  },
  {
   "cell_type": "markdown",
   "metadata": {},
   "source": [
    "Values Distribution"
   ]
  },
  {
   "cell_type": "code",
   "execution_count": 48,
   "metadata": {},
   "outputs": [],
   "source": [
    "# for i in df1.columns:\n",
    "#     sns.countplot( data=df1,x=i)"
   ]
  },
  {
   "cell_type": "code",
   "execution_count": 22,
   "metadata": {},
   "outputs": [],
   "source": [
    "# DFO.hist(figsize=(10,5))\n"
   ]
  },
  {
   "cell_type": "code",
   "execution_count": 129,
   "metadata": {},
   "outputs": [],
   "source": [
    "# #numericla column distribution \n",
    "# def values_dis_sns(df):\n",
    "#     for col in df.columns: \n",
    "#         try:\n",
    "\n",
    "#             df[col] = pd.to_numeric(df[col])\n",
    "#             if (np.issubdtype(df[col].dtype, np.datetime64)):\n",
    "#                 continue\n",
    "#             else:\n",
    "\n",
    "#                   #ax=df.hist(column=col)\n",
    "#                   plt.figure() \n",
    "#                   ax=sns.distplot(df[col])\n",
    "#                   ax.get_xaxis().get_major_formatter().set_scientific(False)\n",
    "#                   ax.get_yaxis().get_major_formatter().set_scientific(False)\n",
    "#                   ax.tick_params(axis='x', rotation=45)\n",
    "\n",
    "# #                   sns.plt.ticklabel_format(style='plain', axis='y',useOffset=False)\n",
    "\n",
    "\n",
    "# #                   ax.ticklabel_format(style='plain', axis='y')\n",
    "\n",
    "# #                   ax = ax.flatten()\n",
    "# #                   ax.xaxis.set_major_formatter(mticker.ScalarFormatter())\n",
    "# #                   ax.xaxis.get_major_formatter().set_scientific(False)\n",
    "# #                   ax.xaxis.get_major_formatter().set_useOffset(False)\n",
    "\n",
    "#         except ValueError:\n",
    "#             print('coluumn:', col)\n",
    "\n",
    "#             print('This column can not be represented as a histogram')\n",
    "# distr= values_dis_sns(df1)\n",
    "# distr"
   ]
  },
  {
   "cell_type": "code",
   "execution_count": null,
   "metadata": {},
   "outputs": [],
   "source": []
  },
  {
   "cell_type": "code",
   "execution_count": 130,
   "metadata": {},
   "outputs": [],
   "source": [
    "# #numericla column distribution \n",
    "# def values_dis_mat(df):\n",
    "#     for col in df.columns: \n",
    "#         try:\n",
    "\n",
    "#             df[col] = pd.to_numeric(df[col])\n",
    "#             if (np.issubdtype(df[col].dtype, np.datetime64)):\n",
    "#                 continue\n",
    "#             else:\n",
    "\n",
    "#                   df.hist(column=col)\n",
    "                  \n",
    "\n",
    "#                   plt.ticklabel_format(style='plain', axis='x',useOffset=False)\n",
    "#                   plt.xticks(rotation=45)\n",
    "\n",
    "\n",
    "# #                   ax.ticklabel_format(style='plain', axis='y')\n",
    "\n",
    "# #                   ax = ax.flatten()\n",
    "# #                   ax.xaxis.set_major_formatter(mticker.ScalarFormatter())\n",
    "# #                   ax.xaxis.get_major_formatter().set_scientific(False)\n",
    "# #                   ax.xaxis.get_major_formatter().set_useOffset(False)\n",
    "\n",
    "#         except ValueError:\n",
    "#             print('coluumn:', col)\n",
    "\n",
    "#             print('This column can not be represented as a histogram')\n",
    "            \n",
    "# distr1= values_dis_mat(df1)\n",
    "# distr1"
   ]
  },
  {
   "cell_type": "code",
   "execution_count": null,
   "metadata": {},
   "outputs": [],
   "source": []
  },
  {
   "cell_type": "code",
   "execution_count": 17,
   "metadata": {},
   "outputs": [],
   "source": [
    "DFO.hist(alpha=0.5, figsize=(20, 10),xrot =45)\n",
    "plt.xticks(rotation=90)\n",
    "plt.tight_layout()\n",
    "plt.show()"
   ]
  },
  {
   "cell_type": "code",
   "execution_count": null,
   "metadata": {},
   "outputs": [],
   "source": [
    "# sns.displot(DFO, stat = 'density')\n",
    "# plt.show()"
   ]
  },
  {
   "cell_type": "markdown",
   "metadata": {},
   "source": [
    "Values_range"
   ]
  },
  {
   "cell_type": "code",
   "execution_count": 31,
   "metadata": {},
   "outputs": [],
   "source": [
    "def box_plot(df):\n",
    "   \n",
    "    for col in df.columns: \n",
    "        #print('coluumn:', col)\n",
    "        try:\n",
    "            df[col] = pd.to_numeric(df[col]) \n",
    "            if (np.issubdtype(df[col].dtype, np.datetime64)):\n",
    "                continue\n",
    "            else:\n",
    "#             if( df[col].type()==datetime64[ns]):\n",
    "#                 print('yes')\n",
    "            #print('column name',col)\n",
    "                plt.figure(figsize=(17,1))\n",
    "                ax=sns.boxplot(data=df, x=col)\n",
    "                ax.get_xaxis().get_major_formatter().set_scientific(False)\n",
    "\n",
    "            #print('Minimum Vlaue:' ,df[col].min())    \n",
    "            #print('Maximum Vlaue:' , df[col].max(),'\\n')  \n",
    "            \n",
    "           \n",
    "        except:\n",
    "            print('non numerical column \\n')\n",
    "            #print('*************')                       \n",
    "    "
   ]
  },
  {
   "cell_type": "code",
   "execution_count": 18,
   "metadata": {},
   "outputs": [],
   "source": [
    "range_values_plot= box_plot(df1)\n",
    "range_values_plot"
   ]
  },
  {
   "cell_type": "code",
   "execution_count": 21,
   "metadata": {},
   "outputs": [],
   "source": [
    "def extreme_values(df):\n",
    "    names=[]\n",
    "    max_=[]\n",
    "    min_=[]\n",
    "    Q1=[]\n",
    "    Q3=[]\n",
    "    IQR=[]\n",
    "    upper=[]\n",
    "    lower=[]\n",
    "    mean_=[]\n",
    "    std_=[]\n",
    "    mode_=[]\n",
    "    for col in DFO.columns: \n",
    "        #print('coluumn:', col)\n",
    "        try:\n",
    "            df[col] = pd.to_numeric(df[col]) \n",
    "#             plt.figure(figsize=(17,1))\n",
    "#             sns.boxplot(data=df, x=col)\n",
    "            #print('Minimum Vlaue:' ,df[col].min())    \n",
    "            #print('Maximum Vlaue:' , df[col].max(),'\\n') \n",
    "            names.append(col)\n",
    "            mean_.append(df[col].mean())\n",
    "            mode_.append(df[col].mode())\n",
    "            std_.append(np.std(df[col]))\n",
    "            min_.append(df[col].min())\n",
    "            max_.append(df[col].max())\n",
    "            Q1.append(df[col].quantile(0.25))\n",
    "            Q3.append(df[col].quantile(0.75))\n",
    "            IQR.append((df[col].quantile(0.75)) - (df[col].quantile(0.25)))\n",
    "            upper.append(df[col].quantile(0.75) +(1.5*( df[col].quantile(0.75) -df[col].quantile(0.25))))\n",
    "            lower.append(df[col].quantile(0.25)-(1.5*(df[col].quantile(0.75) -df[col].quantile(0.25))))\n",
    "        except:\n",
    "            print('non numerical column \\n')\n",
    "            print('*************')                       \n",
    "\n",
    "   \n",
    "    values_range = pd.DataFrame(\n",
    "        {'column_name': names,\n",
    "         'mean':mean_,\n",
    "         'mode':mode_,\n",
    "         'std':std_,\n",
    "         'max':max_,\n",
    "         'min': min_,\n",
    "         'Q1':Q1,\n",
    "         'Q3':Q3,\n",
    "         'IQR':IQR,\n",
    "         'upper':upper,\n",
    "         'lower':lower\n",
    "})\n",
    "    display(values_range)"
   ]
  },
  {
   "cell_type": "code",
   "execution_count": 19,
   "metadata": {},
   "outputs": [],
   "source": [
    "#max and min values\n",
    "range_values= extreme_values(df1)\n",
    "range_values"
   ]
  },
  {
   "cell_type": "code",
   "execution_count": 65,
   "metadata": {},
   "outputs": [],
   "source": []
  },
  {
   "cell_type": "code",
   "execution_count": 51,
   "metadata": {},
   "outputs": [],
   "source": [
    "# for i in df['WATER_AMOUNT']: \n",
    "#         if (i<lwr_bound or i>upr_bound):\n",
    "#             outliers.append(i)\n",
    "#     return outliers# Driver code"
   ]
  },
  {
   "cell_type": "code",
   "execution_count": 20,
   "metadata": {},
   "outputs": [],
   "source": [
    "df1.describe().T"
   ]
  },
  {
   "cell_type": "code",
   "execution_count": null,
   "metadata": {},
   "outputs": [],
   "source": []
  },
  {
   "cell_type": "markdown",
   "metadata": {},
   "source": [
    "Column Constrains"
   ]
  },
  {
   "cell_type": "code",
   "execution_count": null,
   "metadata": {},
   "outputs": [],
   "source": [
    "#column values length\n",
    "for col in DFO.columns:\n",
    "    DFO[col+'_len']=DFO[col].astype(str).map(len)"
   ]
  },
  {
   "cell_type": "code",
   "execution_count": null,
   "metadata": {},
   "outputs": [],
   "source": []
  },
  {
   "cell_type": "markdown",
   "metadata": {},
   "source": [
    "Visualization Libraries"
   ]
  },
  {
   "cell_type": "code",
   "execution_count": 174,
   "metadata": {},
   "outputs": [],
   "source": [
    "# pip install sweetviz\n",
    "# import sweetviz as sv\n",
    "# sv.analyze(DFO).show_html()"
   ]
  },
  {
   "cell_type": "code",
   "execution_count": 183,
   "metadata": {},
   "outputs": [],
   "source": [
    "# pip install pandas_profiling\n",
    "#from  pandas_profiling import ProfileReport\n",
    "#ProfileReport(DFO,title='Report')"
   ]
  },
  {
   "cell_type": "code",
   "execution_count": null,
   "metadata": {},
   "outputs": [],
   "source": []
  },
  {
   "cell_type": "code",
   "execution_count": null,
   "metadata": {},
   "outputs": [],
   "source": []
  },
  {
   "cell_type": "code",
   "execution_count": null,
   "metadata": {},
   "outputs": [],
   "source": []
  }
 ],
 "metadata": {
  "kernelspec": {
   "display_name": "Python 3",
   "language": "python",
   "name": "python3"
  },
  "language_info": {
   "codemirror_mode": {
    "name": "ipython",
    "version": 3
   },
   "file_extension": ".py",
   "mimetype": "text/x-python",
   "name": "python",
   "nbconvert_exporter": "python",
   "pygments_lexer": "ipython3",
   "version": "3.8.5"
  }
 },
 "nbformat": 4,
 "nbformat_minor": 5
}
